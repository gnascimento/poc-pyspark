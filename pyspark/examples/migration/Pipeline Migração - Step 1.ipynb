{
 "cells": [
  {
   "cell_type": "markdown",
   "metadata": {},
   "source": [
    "## Building spark session"
   ]
  },
  {
   "cell_type": "code",
   "execution_count": 1,
   "metadata": {
    "scrolled": true
   },
   "outputs": [],
   "source": [
    "#from pyspark.sql import SparkSession\n",
    "\n",
    "#spark  = SparkSession.builder\\\n",
    "#                  .master(\"spark://localhost:7077\")\\\n",
    "#                  .enableHiveSupport()\\\n",
    "#                  .appName(\"migracao_dcp\")\\\n",
    "#                  .getOrCreate()\n",
    "\n",
    "#spark.conf.set(\"spark.executor.memory\", '128m')\n",
    "#spark.conf.set('spark.driver.cores', '1')\n",
    "#spark.conf.set('spark.executor.cores', '1')\n",
    "#spark.conf.set('spark.cores.max', '1')\n",
    "#spark.conf.set(\"spark.driver.memory\",'128m')\n",
    "#spark.conf.set(\"spark.driver.port\",'9000')\n",
    "#spark.conf.set(\"spark.blockManager.port\",'9002')\n",
    "#spark.conf.set('spark.rpc.numRetries', '3')\n",
    "#sc = spark.sparkContext"
   ]
  },
  {
   "cell_type": "code",
   "execution_count": 2,
   "metadata": {},
   "outputs": [],
   "source": [
    "# “local” to run locally\n",
    "# local[4]” to run locally with 4 cores\n",
    "# “spark://master:7077” to run on a spark standalone cluster"
   ]
  },
  {
   "cell_type": "markdown",
   "metadata": {},
   "source": [
    "## Usando RDDs"
   ]
  },
  {
   "cell_type": "code",
   "execution_count": 3,
   "metadata": {
    "scrolled": true
   },
   "outputs": [
    {
     "name": "stdout",
     "output_type": "stream",
     "text": [
      "Pi is roughly 3.114400\n"
     ]
    }
   ],
   "source": [
    "import random\n",
    "def inside(p):\n",
    "    x, y = random.random(), random.random()\n",
    "    return x*x + y*y < 1\n",
    "NUM_SAMPLES = 10000\n",
    "count = sc.parallelize(range(0, NUM_SAMPLES)) \\\n",
    "             .filter(inside).count()\n",
    "print(\"Pi is roughly %f\" % (4.0 * count / NUM_SAMPLES))\n",
    "#sc.stop()"
   ]
  },
  {
   "cell_type": "code",
   "execution_count": 4,
   "metadata": {},
   "outputs": [
    {
     "data": {
      "text/plain": [
       "[{'nome': 'RAFAEL', 'idade': 15.0}]"
      ]
     },
     "execution_count": 4,
     "metadata": {},
     "output_type": "execute_result"
    }
   ],
   "source": [
    "nomes = [{ 'nome': 'Gabriel', 'idade': 27} , { 'nome': 'Rafael', 'idade': 30}, {'nome': 'Marcia', 'idade': 20 }]\n",
    "nomes_spark = sc.parallelize(nomes)\n",
    "nomes_spark.map(lambda x: { 'nome': x['nome'].upper(), 'idade': x['idade'] / 2.0 }) \\\n",
    "            .filter(lambda x : x['idade'] >= 15) \\\n",
    "            .collect()"
   ]
  },
  {
   "cell_type": "code",
   "execution_count": 5,
   "metadata": {
    "scrolled": true
   },
   "outputs": [],
   "source": [
    "df = spark.read.csv('ncov-2019/covid_19_data.csv', header=True, inferSchema=True)"
   ]
  },
  {
   "cell_type": "code",
   "execution_count": 6,
   "metadata": {
    "scrolled": true
   },
   "outputs": [
    {
     "name": "stdout",
     "output_type": "stream",
     "text": [
      "+---+---------------+--------------+--------------+---------------+---------+------+---------+\n",
      "|SNo|ObservationDate|Province/State|Country/Region|    Last Update|Confirmed|Deaths|Recovered|\n",
      "+---+---------------+--------------+--------------+---------------+---------+------+---------+\n",
      "|  1|     01/22/2020|         Anhui|Mainland China|1/22/2020 17:00|      1.0|   0.0|      0.0|\n",
      "|  2|     01/22/2020|       Beijing|Mainland China|1/22/2020 17:00|     14.0|   0.0|      0.0|\n",
      "|  3|     01/22/2020|     Chongqing|Mainland China|1/22/2020 17:00|      6.0|   0.0|      0.0|\n",
      "|  4|     01/22/2020|        Fujian|Mainland China|1/22/2020 17:00|      1.0|   0.0|      0.0|\n",
      "|  5|     01/22/2020|         Gansu|Mainland China|1/22/2020 17:00|      0.0|   0.0|      0.0|\n",
      "|  6|     01/22/2020|     Guangdong|Mainland China|1/22/2020 17:00|     26.0|   0.0|      0.0|\n",
      "|  7|     01/22/2020|       Guangxi|Mainland China|1/22/2020 17:00|      2.0|   0.0|      0.0|\n",
      "|  8|     01/22/2020|       Guizhou|Mainland China|1/22/2020 17:00|      1.0|   0.0|      0.0|\n",
      "|  9|     01/22/2020|        Hainan|Mainland China|1/22/2020 17:00|      4.0|   0.0|      0.0|\n",
      "| 10|     01/22/2020|         Hebei|Mainland China|1/22/2020 17:00|      1.0|   0.0|      0.0|\n",
      "| 11|     01/22/2020|  Heilongjiang|Mainland China|1/22/2020 17:00|      0.0|   0.0|      0.0|\n",
      "| 12|     01/22/2020|         Henan|Mainland China|1/22/2020 17:00|      5.0|   0.0|      0.0|\n",
      "| 13|     01/22/2020|     Hong Kong|     Hong Kong|1/22/2020 17:00|      0.0|   0.0|      0.0|\n",
      "| 14|     01/22/2020|         Hubei|Mainland China|1/22/2020 17:00|    444.0|  17.0|     28.0|\n",
      "| 15|     01/22/2020|         Hunan|Mainland China|1/22/2020 17:00|      4.0|   0.0|      0.0|\n",
      "| 16|     01/22/2020|Inner Mongolia|Mainland China|1/22/2020 17:00|      0.0|   0.0|      0.0|\n",
      "| 17|     01/22/2020|       Jiangsu|Mainland China|1/22/2020 17:00|      1.0|   0.0|      0.0|\n",
      "| 18|     01/22/2020|       Jiangxi|Mainland China|1/22/2020 17:00|      2.0|   0.0|      0.0|\n",
      "| 19|     01/22/2020|         Jilin|Mainland China|1/22/2020 17:00|      0.0|   0.0|      0.0|\n",
      "| 20|     01/22/2020|      Liaoning|Mainland China|1/22/2020 17:00|      2.0|   0.0|      0.0|\n",
      "+---+---------------+--------------+--------------+---------------+---------+------+---------+\n",
      "only showing top 20 rows\n",
      "\n"
     ]
    }
   ],
   "source": [
    "df.show(20)"
   ]
  },
  {
   "cell_type": "markdown",
   "metadata": {},
   "source": [
    "## Temp tables"
   ]
  },
  {
   "cell_type": "markdown",
   "metadata": {},
   "source": [
    "## Renaming columns"
   ]
  },
  {
   "cell_type": "code",
   "execution_count": 7,
   "metadata": {},
   "outputs": [],
   "source": [
    "df = df.withColumnRenamed(\"SNo\",\"sno\") \\\n",
    "           .withColumnRenamed(\"ObservationDate\",\"observation_date\") \\\n",
    "            .withColumnRenamed(\"Country/Region\", \"country_region\") \\\n",
    "            .withColumnRenamed(\"Province/State\", \"province_state\") \\\n",
    "            .withColumnRenamed(\"Last Update\", \"last_update\")"
   ]
  },
  {
   "cell_type": "code",
   "execution_count": 8,
   "metadata": {
    "scrolled": false
   },
   "outputs": [
    {
     "name": "stdout",
     "output_type": "stream",
     "text": [
      "+---+----------------+--------------+--------------+---------------+---------+------+---------+\n",
      "|sno|observation_date|province_state|country_region|    last_update|Confirmed|Deaths|Recovered|\n",
      "+---+----------------+--------------+--------------+---------------+---------+------+---------+\n",
      "|  1|      01/22/2020|         Anhui|Mainland China|1/22/2020 17:00|      1.0|   0.0|      0.0|\n",
      "|  2|      01/22/2020|       Beijing|Mainland China|1/22/2020 17:00|     14.0|   0.0|      0.0|\n",
      "|  3|      01/22/2020|     Chongqing|Mainland China|1/22/2020 17:00|      6.0|   0.0|      0.0|\n",
      "|  4|      01/22/2020|        Fujian|Mainland China|1/22/2020 17:00|      1.0|   0.0|      0.0|\n",
      "|  5|      01/22/2020|         Gansu|Mainland China|1/22/2020 17:00|      0.0|   0.0|      0.0|\n",
      "|  6|      01/22/2020|     Guangdong|Mainland China|1/22/2020 17:00|     26.0|   0.0|      0.0|\n",
      "|  7|      01/22/2020|       Guangxi|Mainland China|1/22/2020 17:00|      2.0|   0.0|      0.0|\n",
      "|  8|      01/22/2020|       Guizhou|Mainland China|1/22/2020 17:00|      1.0|   0.0|      0.0|\n",
      "|  9|      01/22/2020|        Hainan|Mainland China|1/22/2020 17:00|      4.0|   0.0|      0.0|\n",
      "| 10|      01/22/2020|         Hebei|Mainland China|1/22/2020 17:00|      1.0|   0.0|      0.0|\n",
      "+---+----------------+--------------+--------------+---------------+---------+------+---------+\n",
      "only showing top 10 rows\n",
      "\n"
     ]
    }
   ],
   "source": [
    "df.show(10)"
   ]
  },
  {
   "cell_type": "code",
   "execution_count": 9,
   "metadata": {},
   "outputs": [],
   "source": [
    "df.createOrReplaceTempView(\"covid\")"
   ]
  },
  {
   "cell_type": "code",
   "execution_count": 10,
   "metadata": {},
   "outputs": [],
   "source": [
    "df = spark.sql('select sno, observation_date, province_state, country_region, last_update, ' + \\\n",
    "      ' Confirmed as confirmed, Deaths as death, Recovered as recovered ' + \\\n",
    "      ' from covid')"
   ]
  },
  {
   "cell_type": "code",
   "execution_count": 11,
   "metadata": {
    "scrolled": true
   },
   "outputs": [
    {
     "name": "stdout",
     "output_type": "stream",
     "text": [
      "+---+----------------+--------------+--------------+---------------+---------+-----+---------+\n",
      "|sno|observation_date|province_state|country_region|    last_update|confirmed|death|recovered|\n",
      "+---+----------------+--------------+--------------+---------------+---------+-----+---------+\n",
      "|  1|      01/22/2020|         Anhui|Mainland China|1/22/2020 17:00|      1.0|  0.0|      0.0|\n",
      "|  2|      01/22/2020|       Beijing|Mainland China|1/22/2020 17:00|     14.0|  0.0|      0.0|\n",
      "|  3|      01/22/2020|     Chongqing|Mainland China|1/22/2020 17:00|      6.0|  0.0|      0.0|\n",
      "|  4|      01/22/2020|        Fujian|Mainland China|1/22/2020 17:00|      1.0|  0.0|      0.0|\n",
      "|  5|      01/22/2020|         Gansu|Mainland China|1/22/2020 17:00|      0.0|  0.0|      0.0|\n",
      "|  6|      01/22/2020|     Guangdong|Mainland China|1/22/2020 17:00|     26.0|  0.0|      0.0|\n",
      "|  7|      01/22/2020|       Guangxi|Mainland China|1/22/2020 17:00|      2.0|  0.0|      0.0|\n",
      "|  8|      01/22/2020|       Guizhou|Mainland China|1/22/2020 17:00|      1.0|  0.0|      0.0|\n",
      "|  9|      01/22/2020|        Hainan|Mainland China|1/22/2020 17:00|      4.0|  0.0|      0.0|\n",
      "| 10|      01/22/2020|         Hebei|Mainland China|1/22/2020 17:00|      1.0|  0.0|      0.0|\n",
      "| 11|      01/22/2020|  Heilongjiang|Mainland China|1/22/2020 17:00|      0.0|  0.0|      0.0|\n",
      "| 12|      01/22/2020|         Henan|Mainland China|1/22/2020 17:00|      5.0|  0.0|      0.0|\n",
      "| 13|      01/22/2020|     Hong Kong|     Hong Kong|1/22/2020 17:00|      0.0|  0.0|      0.0|\n",
      "| 14|      01/22/2020|         Hubei|Mainland China|1/22/2020 17:00|    444.0| 17.0|     28.0|\n",
      "| 15|      01/22/2020|         Hunan|Mainland China|1/22/2020 17:00|      4.0|  0.0|      0.0|\n",
      "| 16|      01/22/2020|Inner Mongolia|Mainland China|1/22/2020 17:00|      0.0|  0.0|      0.0|\n",
      "| 17|      01/22/2020|       Jiangsu|Mainland China|1/22/2020 17:00|      1.0|  0.0|      0.0|\n",
      "| 18|      01/22/2020|       Jiangxi|Mainland China|1/22/2020 17:00|      2.0|  0.0|      0.0|\n",
      "| 19|      01/22/2020|         Jilin|Mainland China|1/22/2020 17:00|      0.0|  0.0|      0.0|\n",
      "| 20|      01/22/2020|      Liaoning|Mainland China|1/22/2020 17:00|      2.0|  0.0|      0.0|\n",
      "+---+----------------+--------------+--------------+---------------+---------+-----+---------+\n",
      "only showing top 20 rows\n",
      "\n"
     ]
    }
   ],
   "source": [
    "df.show(20)"
   ]
  },
  {
   "cell_type": "code",
   "execution_count": 12,
   "metadata": {},
   "outputs": [],
   "source": [
    "df.createOrReplaceTempView(\"covid\")"
   ]
  },
  {
   "cell_type": "code",
   "execution_count": 13,
   "metadata": {
    "scrolled": true
   },
   "outputs": [
    {
     "name": "stdout",
     "output_type": "stream",
     "text": [
      "+--------------+---------+-------+---------+\n",
      "|country_region|confirmed|  death|recovered|\n",
      "+--------------+---------+-------+---------+\n",
      "|Mainland China|2797319.0|90161.0|1154040.0|\n",
      "|         Italy| 118103.0| 6773.0|   9904.0|\n",
      "|          Iran|  88374.0| 3466.0|  24019.0|\n",
      "|   South Korea| 104758.0|  733.0|   2849.0|\n",
      "|         Spain|  21519.0|  538.0|   1242.0|\n",
      "|        France|  20119.0|  395.0|    270.0|\n",
      "|            US|  12073.0|  317.0|    210.0|\n",
      "|         Japan|   9153.0|  175.0|   1388.0|\n",
      "|        Others|  19868.0|  123.0|   1594.0|\n",
      "|          Iraq|    819.0|   64.0|     92.0|\n",
      "|            UK|   4778.0|   63.0|    312.0|\n",
      "|     Hong Kong|   2678.0|   60.0|    660.0|\n",
      "|   Philippines|    447.0|   54.0|     37.0|\n",
      "|   Netherlands|   4233.0|   44.0|      2.0|\n",
      "|   Switzerland|   5851.0|   42.0|     39.0|\n",
      "|     Australia|   1833.0|   34.0|    457.0|\n",
      "|        Taiwan|   1304.0|   28.0|    266.0|\n",
      "|       Germany|  19195.0|   26.0|    485.0|\n",
      "|    San Marino|    517.0|   24.0|      4.0|\n",
      "|      Thailand|   1781.0|   14.0|    864.0|\n",
      "+--------------+---------+-------+---------+\n",
      "only showing top 20 rows\n",
      "\n"
     ]
    }
   ],
   "source": [
    "df_by_region = spark.sql(\"select country_region, sum(confirmed) confirmed, sum(death) death, sum(recovered) recovered \" + \\\n",
    "                        \" from covid  group by country_region order by sum(death) desc\")\n",
    "df_by_region.show()"
   ]
  },
  {
   "cell_type": "markdown",
   "metadata": {},
   "source": [
    "## Barplots"
   ]
  },
  {
   "cell_type": "code",
   "execution_count": 14,
   "metadata": {},
   "outputs": [],
   "source": [
    "df_pandas_by_region = df_by_region.limit(5).toPandas()"
   ]
  },
  {
   "cell_type": "code",
   "execution_count": 15,
   "metadata": {
    "scrolled": true
   },
   "outputs": [
    {
     "data": {
      "text/html": [
       "<div>\n",
       "<style scoped>\n",
       "    .dataframe tbody tr th:only-of-type {\n",
       "        vertical-align: middle;\n",
       "    }\n",
       "\n",
       "    .dataframe tbody tr th {\n",
       "        vertical-align: top;\n",
       "    }\n",
       "\n",
       "    .dataframe thead th {\n",
       "        text-align: right;\n",
       "    }\n",
       "</style>\n",
       "<table border=\"1\" class=\"dataframe\">\n",
       "  <thead>\n",
       "    <tr style=\"text-align: right;\">\n",
       "      <th></th>\n",
       "      <th>country_region</th>\n",
       "      <th>confirmed</th>\n",
       "      <th>death</th>\n",
       "      <th>recovered</th>\n",
       "    </tr>\n",
       "  </thead>\n",
       "  <tbody>\n",
       "    <tr>\n",
       "      <th>0</th>\n",
       "      <td>Mainland China</td>\n",
       "      <td>2797319.0</td>\n",
       "      <td>90161.0</td>\n",
       "      <td>1154040.0</td>\n",
       "    </tr>\n",
       "    <tr>\n",
       "      <th>1</th>\n",
       "      <td>Italy</td>\n",
       "      <td>118103.0</td>\n",
       "      <td>6773.0</td>\n",
       "      <td>9904.0</td>\n",
       "    </tr>\n",
       "    <tr>\n",
       "      <th>2</th>\n",
       "      <td>Iran</td>\n",
       "      <td>88374.0</td>\n",
       "      <td>3466.0</td>\n",
       "      <td>24019.0</td>\n",
       "    </tr>\n",
       "    <tr>\n",
       "      <th>3</th>\n",
       "      <td>South Korea</td>\n",
       "      <td>104758.0</td>\n",
       "      <td>733.0</td>\n",
       "      <td>2849.0</td>\n",
       "    </tr>\n",
       "    <tr>\n",
       "      <th>4</th>\n",
       "      <td>Spain</td>\n",
       "      <td>21519.0</td>\n",
       "      <td>538.0</td>\n",
       "      <td>1242.0</td>\n",
       "    </tr>\n",
       "  </tbody>\n",
       "</table>\n",
       "</div>"
      ],
      "text/plain": [
       "   country_region  confirmed    death  recovered\n",
       "0  Mainland China  2797319.0  90161.0  1154040.0\n",
       "1           Italy   118103.0   6773.0     9904.0\n",
       "2            Iran    88374.0   3466.0    24019.0\n",
       "3     South Korea   104758.0    733.0     2849.0\n",
       "4           Spain    21519.0    538.0     1242.0"
      ]
     },
     "execution_count": 15,
     "metadata": {},
     "output_type": "execute_result"
    }
   ],
   "source": [
    "df_pandas_by_region"
   ]
  },
  {
   "cell_type": "code",
   "execution_count": 16,
   "metadata": {},
   "outputs": [],
   "source": [
    "regions = list(df_pandas_by_region['country_region'])\n",
    "deaths = list(df_pandas_by_region['death'])"
   ]
  },
  {
   "cell_type": "code",
   "execution_count": 17,
   "metadata": {
    "scrolled": true
   },
   "outputs": [
    {
     "data": {
      "text/plain": [
       "Text(0, 0.5, 'Deaths')"
      ]
     },
     "execution_count": 17,
     "metadata": {},
     "output_type": "execute_result"
    },
    {
     "data": {
      "image/png": "[encoded data removed]",
      "text/plain": [
       "<Figure size 648x216 with 1 Axes>"
      ]
     },
     "metadata": {
      "needs_background": "light"
     },
     "output_type": "display_data"
    }
   ],
   "source": [
    "import matplotlib.pyplot as plt\n",
    "%matplotlib inline\n",
    "plt.figure(figsize=(9, 3))\n",
    "plt.bar(regions, deaths)\n",
    "plt.title('Deaths by region')\n",
    "plt.xlabel('Country/Region')\n",
    "plt.ylabel('Deaths')"
   ]
  },
  {
   "cell_type": "markdown",
   "metadata": {},
   "source": [
    "## User defined functions"
   ]
  },
  {
   "cell_type": "code",
   "execution_count": 18,
   "metadata": {},
   "outputs": [],
   "source": [
    "from pyspark.sql.types import DoubleType\n",
    "from math import log"
   ]
  },
  {
   "cell_type": "code",
   "execution_count": 19,
   "metadata": {},
   "outputs": [],
   "source": [
    "def log_deaths(n):\n",
    "    if (n > 0):\n",
    "        return log(n)\n",
    "    return 0.0"
   ]
  },
  {
   "cell_type": "code",
   "execution_count": 20,
   "metadata": {},
   "outputs": [
    {
     "data": {
      "text/plain": [
       "0.6931471805599453"
      ]
     },
     "execution_count": 20,
     "metadata": {},
     "output_type": "execute_result"
    }
   ],
   "source": [
    "log_deaths(2)"
   ]
  },
  {
   "cell_type": "code",
   "execution_count": 21,
   "metadata": {},
   "outputs": [
    {
     "data": {
      "text/plain": [
       "<function __main__.log_deaths(n)>"
      ]
     },
     "execution_count": 21,
     "metadata": {},
     "output_type": "execute_result"
    }
   ],
   "source": [
    "spark.udf.register(\"log_udf\", log_deaths, DoubleType())"
   ]
  },
  {
   "cell_type": "code",
   "execution_count": 22,
   "metadata": {
    "scrolled": true
   },
   "outputs": [
    {
     "name": "stdout",
     "output_type": "stream",
     "text": [
      "+--------------+------------------+\n",
      "|country_region|             death|\n",
      "+--------------+------------------+\n",
      "|Mainland China|11.409352240045228|\n",
      "|         Italy| 8.820699399214904|\n",
      "|          Iran| 8.150756470275551|\n",
      "|   South Korea| 6.597145701886651|\n",
      "|         Spain|6.2878585601617845|\n",
      "|        France| 5.978885764901122|\n",
      "|            US|  5.75890177387728|\n",
      "|         Japan|5.1647859739235145|\n",
      "|        Others| 4.812184355372417|\n",
      "|          Iraq|4.1588830833596715|\n",
      "|            UK| 4.143134726391533|\n",
      "|     Hong Kong|   4.0943445622221|\n",
      "|   Philippines|3.9889840465642745|\n",
      "|   Netherlands| 3.784189633918261|\n",
      "|   Switzerland|3.7376696182833684|\n",
      "|     Australia|3.5263605246161616|\n",
      "|        Taiwan| 3.332204510175204|\n",
      "|       Germany| 3.258096538021482|\n",
      "|    San Marino|3.1780538303479458|\n",
      "|      Thailand|2.6390573296152584|\n",
      "+--------------+------------------+\n",
      "only showing top 20 rows\n",
      "\n"
     ]
    }
   ],
   "source": [
    "df_by_region.createOrReplaceTempView(\"df_by_region\")\n",
    "df_by_region_log = spark.sql(\"select country_region, log_udf(death) death from df_by_region\")\n",
    "df_by_region_log.show()"
   ]
  },
  {
   "cell_type": "code",
   "execution_count": 23,
   "metadata": {},
   "outputs": [],
   "source": [
    "df_pandas_by_region_log = df_by_region_log.limit(10).toPandas()"
   ]
  },
  {
   "cell_type": "code",
   "execution_count": 24,
   "metadata": {},
   "outputs": [],
   "source": [
    "regions = list(df_pandas_by_region_log['country_region'])\n",
    "deaths = list(df_pandas_by_region_log['death'])"
   ]
  },
  {
   "cell_type": "code",
   "execution_count": 25,
   "metadata": {
    "scrolled": false
   },
   "outputs": [
    {
     "data": {
      "text/plain": [
       "Text(0, 0.5, 'Deaths')"
      ]
     },
     "execution_count": 25,
     "metadata": {},
     "output_type": "execute_result"
    },
    {
     "data": {
      "image/png": "[encoded data removed]",
      "text/plain": [
       "<Figure size 648x216 with 1 Axes>"
      ]
     },
     "metadata": {
      "needs_background": "light"
     },
     "output_type": "display_data"
    }
   ],
   "source": [
    "import matplotlib.pyplot as plt\n",
    "%matplotlib inline\n",
    "plt.figure(figsize=(9, 3))\n",
    "plt.bar(regions, deaths)\n",
    "plt.title('Deaths by region (log)')\n",
    "plt.xlabel('Country/Region')\n",
    "plt.ylabel('Deaths')"
   ]
  },
  {
   "cell_type": "code",
   "execution_count": 26,
   "metadata": {
    "scrolled": false
   },
   "outputs": [],
   "source": [
    " df_by_region \\\n",
    "  .write.format('jdbc') \\\n",
    "  .options( \\\n",
    "      url='jdbc:mysql://localhost:3306/db_poc_spark', \\\n",
    "      driver='com.mysql.cj.jdbc.Driver',\\\n",
    "      dbtable='tb_deaths_by_region',\\\n",
    "      user='root',\\\n",
    "      password='extreme123').mode('overwrite').save()"
   ]
  },
  {
   "cell_type": "code",
   "execution_count": 27,
   "metadata": {},
   "outputs": [],
   "source": [
    "df_from_mysql =  spark \\\n",
    "  .read.format('jdbc') \\\n",
    "  .options( \\\n",
    "      url='jdbc:mysql://localhost:3306/db_poc_spark', \\\n",
    "      driver='com.mysql.cj.jdbc.Driver',\\\n",
    "      dbtable='tb_deaths_by_region',\\\n",
    "      user='root',\\\n",
    "      password='extreme123').load()"
   ]
  },
  {
   "cell_type": "code",
   "execution_count": 28,
   "metadata": {},
   "outputs": [
    {
     "name": "stdout",
     "output_type": "stream",
     "text": [
      "+--------------+---------+-------+---------+\n",
      "|country_region|confirmed|  death|recovered|\n",
      "+--------------+---------+-------+---------+\n",
      "|         Spain|  21519.0|  538.0|   1242.0|\n",
      "|          Iran|  88374.0| 3466.0|  24019.0|\n",
      "|Mainland China|2797319.0|90161.0|1154040.0|\n",
      "|         Italy| 118103.0| 6773.0|   9904.0|\n",
      "|   South Korea| 104758.0|  733.0|   2849.0|\n",
      "|            US|  12073.0|  317.0|    210.0|\n",
      "|        France|  20119.0|  395.0|    270.0|\n",
      "|         Japan|   9153.0|  175.0|   1388.0|\n",
      "|          Iraq|    819.0|   64.0|     92.0|\n",
      "|        Others|  19868.0|  123.0|   1594.0|\n",
      "|            UK|   4778.0|   63.0|    312.0|\n",
      "|   Philippines|    447.0|   54.0|     37.0|\n",
      "|     Australia|   1833.0|   34.0|    457.0|\n",
      "|        Taiwan|   1304.0|   28.0|    266.0|\n",
      "|   Switzerland|   5851.0|   42.0|     39.0|\n",
      "|   Netherlands|   4233.0|   44.0|      2.0|\n",
      "|       Germany|  19195.0|   26.0|    485.0|\n",
      "|     Hong Kong|   2678.0|   60.0|    660.0|\n",
      "|    San Marino|    517.0|   24.0|      4.0|\n",
      "|      Thailand|   1781.0|   14.0|    864.0|\n",
      "+--------------+---------+-------+---------+\n",
      "only showing top 20 rows\n",
      "\n"
     ]
    }
   ],
   "source": [
    "df_from_mysql.show(20)"
   ]
  }
 ],
 "metadata": {
  "kernelspec": {
   "display_name": "Python 3",
   "language": "python",
   "name": "python3"
  },
  "language_info": {
   "codemirror_mode": {
    "name": "ipython",
    "version": 3
   },
   "file_extension": ".py",
   "mimetype": "text/x-python",
   "name": "python",
   "nbconvert_exporter": "python",
   "pygments_lexer": "ipython3",
   "version": "3.7.0"
  }
 },
 "nbformat": 4,
 "nbformat_minor": 2
}
